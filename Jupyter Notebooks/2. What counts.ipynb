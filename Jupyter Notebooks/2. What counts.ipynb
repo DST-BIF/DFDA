{
 "cells": [
  {
   "cell_type": "code",
   "execution_count": null,
   "metadata": {},
   "outputs": [],
   "source": [
    "# Load the opta functions from the kloppy module\n",
    "# Load in \"pandas as pd\" as a shorthand for the pandas module - which is used later on to work with dataframes\n",
    "# \"pandas as pd\" - is a convention in python\n",
    "\n",
    "from kloppy import opta\n",
    "import pandas as pd\n",
    "\n",
    "# Using the opta.load() function you can now load in the event data without working with troublesome XML files\n",
    "# This time you can add additional columns to the to_pandas() function to get player and team names added as columns\n",
    "\n",
    "dataset = opta.load(\n",
    "    f7_data=\"C:\\\\Users\\\\YOUR_USER\\\\Desktop\\\\Github\\\\DFDA\\\\Data\\\\Event Data\\\\F7.xml\",\n",
    "    f24_data=\"C:\\\\Users\\\\YOUR_USER\\\\Desktop\\\\Github\\\\DFDA\\\\Data\\\\Event Data\\\\F24.xml\",\n",
    "    coordinates=\"opta\"\n",
    "    \n",
    ").to_pandas(\n",
    "    additional_columns={\n",
    "        'player': lambda event: str(event.player),\n",
    "        'team': lambda event: str(event.team)\n",
    "    }\n",
    ")\n",
    "\n",
    "dataset.head()"
   ]
  },
  {
   "cell_type": "code",
   "execution_count": null,
   "metadata": {},
   "outputs": [],
   "source": [
    "# Focussing on shots - you can again subset the dataset by using the following:\n",
    "# DATASET_NAME.loc[DATASET_NAME[COLUMN_NAME]=='TEXT_VALUE']\n",
    "\n",
    "shots=dataset.loc[dataset['event_type']=='SHOT']\n",
    "\n",
    "print(\"Total shots:\",len(shots.index))\n",
    "\n",
    "# If you only want to focus on one team you can add a further filter by adding & and enclosing all filters in (...)\n",
    "\n",
    "shots_vejle=dataset.loc[(dataset['event_type']=='SHOT') & (dataset['team']=='Vejle BK')]\n",
    "\n",
    "print(\"Vejle BK shots:\",len(shots_vejle.index))"
   ]
  },
  {
   "cell_type": "code",
   "execution_count": null,
   "metadata": {},
   "outputs": [],
   "source": [
    "# Alternative you can use a group by statement\n",
    "\n",
    "print(shots.groupby('team').size())"
   ]
  },
  {
   "cell_type": "code",
   "execution_count": null,
   "metadata": {},
   "outputs": [],
   "source": [
    "# Turning to passes you can quickly use groupby to show which players has the most passes\n",
    "# Begin by creating a data frame with passes\n",
    "\n",
    "passes=dataset.loc[dataset['event_type']=='PASS']\n",
    "\n",
    "# Then create a dataframe with number of passes per player on each team\n",
    "\n",
    "passes = pd.DataFrame(passes.groupby(['player','team']).size())\n",
    "\n",
    "# Then rename the unnamed \"size column\" to passes and lastly the dataframe is sorted in a descending order\n",
    "\n",
    "passes = passes.rename(columns={0:\"Passes\"}).sort_values(\"Passes\", ascending=False)\n",
    "\n",
    "# Again you can use the head() or tail() function to show the top 5 - as it is ordered descending - or bottom 5\n",
    "\n",
    "passes.head()"
   ]
  },
  {
   "cell_type": "code",
   "execution_count": null,
   "metadata": {},
   "outputs": [],
   "source": [
    "# Another metric which can be derived from passes is passes INSIDE the last 1/3 of the pitch\n",
    "# Starting with the same idea of subsetting the dataset but including a x_coordinate filter\n",
    "# Opta coordinates goes from X=0,Y=0 (Right corner of own backline) to X=100,Y=100 (Left corner on opponents backline)\n",
    "# Hence we use X>100*2/3 to get events inside last 1/3\n",
    "\n",
    "passes_last_third=dataset.loc[(dataset['event_type']=='PASS') & (dataset['coordinates_x']>100*2/3) & (dataset['end_coordinates_x']>100*2/3)]\n",
    "\n",
    "# Again this statement creates a dataframe with number of passes per player on each team\n",
    "\n",
    "passes_last_third = pd.DataFrame(passes_last_third.groupby(['player','team']).size())\n",
    "\n",
    "# Then the unnamed size column is renamed to passes and lastly the dataframe is sorted in a descending order\n",
    "\n",
    "passes_last_third = passes_last_third.rename(columns={0:\"Passes Inside Last 1/3\"}).sort_values(\"Passes Inside Last 1/3\", ascending=False)\n",
    "\n",
    "# You can then show top 10 by using head(10)\n",
    "\n",
    "passes_last_third.head(10)"
   ]
  },
  {
   "cell_type": "code",
   "execution_count": null,
   "metadata": {},
   "outputs": [],
   "source": []
  }
 ],
 "metadata": {
  "kernelspec": {
   "display_name": "Python 3 (ipykernel)",
   "language": "python",
   "name": "python3"
  },
  "language_info": {
   "codemirror_mode": {
    "name": "ipython",
    "version": 3
   },
   "file_extension": ".py",
   "mimetype": "text/x-python",
   "name": "python",
   "nbconvert_exporter": "python",
   "pygments_lexer": "ipython3",
   "version": "3.8.3"
  }
 },
 "nbformat": 4,
 "nbformat_minor": 4
}
