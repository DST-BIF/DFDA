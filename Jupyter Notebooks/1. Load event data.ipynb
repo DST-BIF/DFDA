{
 "cells": [
  {
   "cell_type": "code",
   "execution_count": null,
   "metadata": {},
   "outputs": [],
   "source": [
    "# Load the opta functions from the kloppy module to make working with Opta files easy\n",
    "\n",
    "from kloppy import opta"
   ]
  },
  {
   "cell_type": "code",
   "execution_count": null,
   "metadata": {},
   "outputs": [],
   "source": [
    "# Using the opta.load() function you can now load in the event data without working with troublesome XML files\n",
    "\n",
    "dataset = opta.load(\n",
    "    f7_data=\"C:\\\\Users\\\\YOUR_USER\\\\Desktop\\\\Github\\\\DFDA\\\\Data\\\\Event Data\\\\F7.xml\",\n",
    "    f24_data=\"C:\\\\Users\\\\YOUR_USER\\\\Desktop\\\\Github\\\\DFDA\\\\Data\\\\Event Data\\\\F24.xml\",\n",
    "    coordinates=\"opta\"\n",
    "    \n",
    ").to_pandas()\n",
    "\n",
    "\n",
    "# You can take a look at the dataset by simply typing in the name\n",
    "# As standard Jupyter shows the first 5 and last 5 rows and around 20 columns - excess rows and columns are hidden by \"...\"\n",
    "\n",
    "dataset"
   ]
  },
  {
   "cell_type": "code",
   "execution_count": null,
   "metadata": {},
   "outputs": [],
   "source": [
    "# Using the python function \"head()\" you can inspect the first 5 rows of the event data\n",
    "# If you write a number in head(X) to replace X the function returns that number of rows\n",
    "\n",
    "dataset.head()"
   ]
  },
  {
   "cell_type": "code",
   "execution_count": null,
   "metadata": {},
   "outputs": [],
   "source": [
    "# Like head() above the function tail() function shows rows of the dataset, but this time the last 5 rows\n",
    "\n",
    "dataset.tail()"
   ]
  },
  {
   "cell_type": "code",
   "execution_count": null,
   "metadata": {},
   "outputs": [],
   "source": [
    "# Using the functions print() and unique() you can take a look at the content of the column 'event_type'\n",
    "# In python data frames you can select columns by writing DATASET_NAME['COLUMN_NAME'] or DATASET_NAME.COLUMN_NAME\n",
    "\n",
    "print(dataset['event_type'].unique())"
   ]
  },
  {
   "cell_type": "code",
   "execution_count": null,
   "metadata": {},
   "outputs": [],
   "source": [
    "# Using the .loc statement you can subset the dataset based on column values by using:\n",
    "# DATASET_NAME.loc[DATASET_NAME[COLUMN_NAME]=='TEXT_VALUE']\n",
    "\n",
    "# The examples below are subsetting the dataset into shots and passes\n",
    "\n",
    "shots=dataset.loc[dataset['event_type']=='SHOT']\n",
    "passes=dataset.loc[dataset['event_type']=='PASS']"
   ]
  },
  {
   "cell_type": "code",
   "execution_count": null,
   "metadata": {},
   "outputs": [],
   "source": [
    "# Using len(DATA_SET.index) you can quickly count how many rows are in the dataset - here show is the number of shots: \n",
    "\n",
    "len(shots.index)"
   ]
  },
  {
   "cell_type": "code",
   "execution_count": null,
   "metadata": {},
   "outputs": [],
   "source": [
    "# Using print() and len() you can make the count of shots and passes a bit more intuitive\n",
    "# In print(), you can combine text and other functions by seperating them with a comma, the function automatically adds spaces\n",
    "\n",
    "print(\"Number of shots:\",len(shots.index))\n",
    "print(\"Number of passes:\",len(passes.index))"
   ]
  },
  {
   "cell_type": "code",
   "execution_count": null,
   "metadata": {},
   "outputs": [],
   "source": []
  }
 ],
 "metadata": {
  "kernelspec": {
   "display_name": "Python 3 (ipykernel)",
   "language": "python",
   "name": "python3"
  },
  "language_info": {
   "codemirror_mode": {
    "name": "ipython",
    "version": 3
   },
   "file_extension": ".py",
   "mimetype": "text/x-python",
   "name": "python",
   "nbconvert_exporter": "python",
   "pygments_lexer": "ipython3",
   "version": "3.8.3"
  },
  "vscode": {
   "interpreter": {
    "hash": "df2cd9085ca9551b710b96d73994995bc78465def3f05e6c4e3f1ded6212bbc1"
   }
  }
 },
 "nbformat": 4,
 "nbformat_minor": 4
}
